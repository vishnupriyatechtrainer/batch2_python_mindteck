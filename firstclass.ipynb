{
 "cells": [
  {
   "cell_type": "code",
   "execution_count": null,
   "id": "f28564bf-e1ea-4514-8157-61f24c6d2efb",
   "metadata": {},
   "outputs": [],
   "source": [
    "# variable \n",
    "# datatypes\n",
    "# printing in python\n",
    "# case sensitiveness\n",
    "# whitespace\n",
    "# multiple variabe declaration\n",
    "# knowing the variable\n",
    "# comments\n",
    "# typecasting\n",
    "# format\n",
    "# operators"
   ]
  },
  {
   "cell_type": "markdown",
   "id": "55eca7cd-03d1-4cad-b917-12fbe03732f4",
   "metadata": {},
   "source": [
    "variables"
   ]
  },
  {
   "cell_type": "code",
   "execution_count": 1,
   "id": "d6e173ec-c602-49e6-b86b-9531c6fd0ae1",
   "metadata": {},
   "outputs": [
    {
     "name": "stdout",
     "output_type": "stream",
     "text": [
      "10\n",
      "34\n",
      "hi\n",
      "hello\n"
     ]
    }
   ],
   "source": [
    "a=10\n",
    "b=34\n",
    "c='hi'\n",
    "d=\"hello\"\n",
    "\n",
    "print(a)\n",
    "print(b)\n",
    "print(c)\n",
    "print(d)"
   ]
  },
  {
   "cell_type": "code",
   "execution_count": 2,
   "id": "7d07c9be-9831-4c92-bfbc-8899113da207",
   "metadata": {},
   "outputs": [
    {
     "name": "stdout",
     "output_type": "stream",
     "text": [
      "python\n"
     ]
    }
   ],
   "source": [
    "name=\"python\"\n",
    "print(name)"
   ]
  },
  {
   "cell_type": "markdown",
   "id": "38a5c5f4-c564-4730-9cd7-d05d292a641d",
   "metadata": {},
   "source": [
    "datatypes"
   ]
  },
  {
   "cell_type": "code",
   "execution_count": 4,
   "id": "561bf6a3-5f3d-4d8e-ab7f-9a637fd7562c",
   "metadata": {},
   "outputs": [
    {
     "name": "stdout",
     "output_type": "stream",
     "text": [
      "<class 'int'>\n",
      "<class 'float'>\n",
      "<class 'str'>\n",
      "<class 'str'>\n"
     ]
    }
   ],
   "source": [
    "a=10\n",
    "b=2.3\n",
    "c='hi'\n",
    "d=\"hello\"\n",
    "\n",
    "#type()\n",
    "print(type(a))\n",
    "print(type(b))\n",
    "print(type(c))\n",
    "print(type(d))\n"
   ]
  },
  {
   "cell_type": "code",
   "execution_count": null,
   "id": "a20ed817-25b0-4dcf-8861-b01e0e367cc2",
   "metadata": {},
   "outputs": [],
   "source": [
    "inbuilt methods - type() , print()"
   ]
  },
  {
   "cell_type": "markdown",
   "id": "e5da7eb7-8d3f-4fcd-b987-a101a915e16c",
   "metadata": {},
   "source": [
    "Printing in python"
   ]
  },
  {
   "cell_type": "code",
   "execution_count": 5,
   "id": "a4f3b4c6-50d1-4486-9887-7d26ee0aa966",
   "metadata": {},
   "outputs": [
    {
     "name": "stdout",
     "output_type": "stream",
     "text": [
      "hello\n"
     ]
    }
   ],
   "source": [
    "print('hello')"
   ]
  },
  {
   "cell_type": "code",
   "execution_count": 7,
   "id": "7d364d34-e979-4025-a2a7-3ca67261f231",
   "metadata": {},
   "outputs": [
    {
     "name": "stdout",
     "output_type": "stream",
     "text": [
      "good morning python\n"
     ]
    }
   ],
   "source": [
    "name=\"python\"\n",
    "print('good morning',name) # , concatenation"
   ]
  },
  {
   "cell_type": "code",
   "execution_count": 9,
   "id": "3ac9bd38-0bcb-4f23-8bb1-dba59f6a7547",
   "metadata": {},
   "outputs": [
    {
     "name": "stdout",
     "output_type": "stream",
     "text": [
      "rohit is studying python and got 1 rank\n"
     ]
    }
   ],
   "source": [
    "name =\"rohit\"\n",
    "course=\"python\"\n",
    "rank = 1\n",
    "\n",
    "# rohit is studying python and got 1 rank\n",
    "\n",
    "print(name,'is studying',course,'and got',rank,'rank')\n"
   ]
  },
  {
   "cell_type": "code",
   "execution_count": 11,
   "id": "10a346fa-f5eb-4762-b5df-eea9291ad3d2",
   "metadata": {},
   "outputs": [
    {
     "name": "stdout",
     "output_type": "stream",
     "text": [
      "the answer is 58\n"
     ]
    }
   ],
   "source": [
    "a=13\n",
    "b=45\n",
    "c=a+b\n",
    "print('the answer is',c) # + add"
   ]
  },
  {
   "cell_type": "code",
   "execution_count": 13,
   "id": "7c63a1e3-9d05-425d-9ed6-abce40bff2ee",
   "metadata": {},
   "outputs": [
    {
     "name": "stdout",
     "output_type": "stream",
     "text": [
      "name is johnsmith\n"
     ]
    }
   ],
   "source": [
    "a=\"john\"\n",
    "b=\"smith\"\n",
    "c=a+b\n",
    "print(\"name is\",c) # + concatenation joining the string"
   ]
  },
  {
   "cell_type": "markdown",
   "id": "fbfbb0d6-0d20-44a8-8162-1991bcdf3ddb",
   "metadata": {},
   "source": [
    "comments "
   ]
  },
  {
   "cell_type": "code",
   "execution_count": null,
   "id": "4de53fd6-bf64-471a-9845-ec345662292e",
   "metadata": {},
   "outputs": [],
   "source": [
    "a=10\n",
    "b=56\n",
    "c=a+b\n",
    "print(c) # a and b are variables"
   ]
  },
  {
   "cell_type": "code",
   "execution_count": null,
   "id": "72a61b79-36a4-4e25-92f5-3006d61ebb38",
   "metadata": {},
   "outputs": [],
   "source": [
    "'''ehjfjrgjrg\n",
    "fgdhfg\n",
    "dshfdshfkjsdhf'''"
   ]
  },
  {
   "cell_type": "markdown",
   "id": "f766cfe6-bc22-4a37-8e02-d7fbbf5b6fe5",
   "metadata": {},
   "source": [
    "case sensitiveness - lowercase , uppercase , capitialize -Animal , camelcase - onHandClick"
   ]
  },
  {
   "cell_type": "code",
   "execution_count": 14,
   "id": "6dcf5cc1-0a45-4a71-a7a0-552cc7c4630e",
   "metadata": {},
   "outputs": [
    {
     "ename": "NameError",
     "evalue": "name 'A' is not defined",
     "output_type": "error",
     "traceback": [
      "\u001b[1;31m--------------------------------------------------------------------------\u001b[0m",
      "\u001b[1;31mNameError\u001b[0m                                Traceback (most recent call last)",
      "Cell \u001b[1;32mIn[14], line 2\u001b[0m\n\u001b[0;32m      1\u001b[0m a\u001b[38;5;241m=\u001b[39m\u001b[38;5;241m10\u001b[39m\n\u001b[1;32m----> 2\u001b[0m \u001b[38;5;28mprint\u001b[39m(A)\n",
      "\u001b[1;31mNameError\u001b[0m: name 'A' is not defined"
     ]
    }
   ],
   "source": [
    "a=10\n",
    "print(A)"
   ]
  },
  {
   "cell_type": "code",
   "execution_count": 15,
   "id": "eea0cdee-3143-4d91-8858-ba7609520d09",
   "metadata": {},
   "outputs": [
    {
     "name": "stdout",
     "output_type": "stream",
     "text": [
      "chennai\n"
     ]
    }
   ],
   "source": [
    "print('chennai')"
   ]
  },
  {
   "cell_type": "code",
   "execution_count": 16,
   "id": "25f24a8d-0168-4c11-b4c8-488e28d2ec62",
   "metadata": {},
   "outputs": [
    {
     "ename": "NameError",
     "evalue": "name 'Print' is not defined",
     "output_type": "error",
     "traceback": [
      "\u001b[1;31m--------------------------------------------------------------------------\u001b[0m",
      "\u001b[1;31mNameError\u001b[0m                                Traceback (most recent call last)",
      "Cell \u001b[1;32mIn[16], line 1\u001b[0m\n\u001b[1;32m----> 1\u001b[0m Print(\u001b[38;5;124m'\u001b[39m\u001b[38;5;124mdelhi\u001b[39m\u001b[38;5;124m'\u001b[39m)\n",
      "\u001b[1;31mNameError\u001b[0m: name 'Print' is not defined"
     ]
    }
   ],
   "source": [
    "Print('delhi')"
   ]
  },
  {
   "cell_type": "markdown",
   "id": "6c758274-948f-45eb-aafc-1afbebd6d43c",
   "metadata": {},
   "source": [
    "whitespace in python"
   ]
  },
  {
   "cell_type": "code",
   "execution_count": 17,
   "id": "72a618d2-3ae4-4c0b-bcb4-8191b51d6c73",
   "metadata": {},
   "outputs": [
    {
     "name": "stdout",
     "output_type": "stream",
     "text": [
      "10\n",
      "34\n",
      "67\n"
     ]
    }
   ],
   "source": [
    "a=10\n",
    "b=34\n",
    "c=                               67\n",
    "\n",
    "print(a)\n",
    "print(b)\n",
    "print(c)"
   ]
  },
  {
   "cell_type": "code",
   "execution_count": 21,
   "id": "aa8cb439-d3fd-41f8-b60b-c3ccab6be69b",
   "metadata": {},
   "outputs": [
    {
     "name": "stdout",
     "output_type": "stream",
     "text": [
      "10\n",
      "            90\n",
      "14\n"
     ]
    }
   ],
   "source": [
    "a=\"10\"\n",
    "b=\"            90\"\n",
    "\n",
    "print(a)\n",
    "print(b)\n",
    "print(len(b))"
   ]
  },
  {
   "cell_type": "markdown",
   "id": "057c735a-3588-41ad-ae26-21cfc0264d77",
   "metadata": {},
   "source": [
    "multiple varibale declaration"
   ]
  },
  {
   "cell_type": "code",
   "execution_count": 22,
   "id": "0e38a7ee-ef76-4973-a4d3-4fc76791cd99",
   "metadata": {},
   "outputs": [
    {
     "name": "stdout",
     "output_type": "stream",
     "text": [
      "10\n",
      "20\n",
      "304\n"
     ]
    }
   ],
   "source": [
    "a,b,c=10,20,304\n",
    "\n",
    "print(a)\n",
    "print(b)\n",
    "print(c)"
   ]
  },
  {
   "cell_type": "code",
   "execution_count": 23,
   "id": "b46567b6-1302-41c2-975b-18d812e32b7e",
   "metadata": {},
   "outputs": [
    {
     "name": "stdout",
     "output_type": "stream",
     "text": [
      "10\n",
      "10\n",
      "10\n"
     ]
    }
   ],
   "source": [
    "a=b=c=10\n",
    "\n",
    "print(a)\n",
    "print(b)\n",
    "print(c)"
   ]
  },
  {
   "cell_type": "code",
   "execution_count": 24,
   "id": "8718a253-b2bd-47a7-85b2-e876c5bc218c",
   "metadata": {},
   "outputs": [
    {
     "name": "stdout",
     "output_type": "stream",
     "text": [
      "32\n",
      "10\n"
     ]
    }
   ],
   "source": [
    "a=10\n",
    "b=32\n",
    "\n",
    "a,b=b,a\n",
    "\n",
    "print(a)\n",
    "print(b)"
   ]
  },
  {
   "cell_type": "markdown",
   "id": "cfd17bd7-dbbd-47a5-8e37-efd55f74a1bd",
   "metadata": {},
   "source": [
    "typecasting"
   ]
  },
  {
   "cell_type": "code",
   "execution_count": 25,
   "id": "2e4443d6-ec00-4750-a4ec-222662080644",
   "metadata": {},
   "outputs": [
    {
     "name": "stdout",
     "output_type": "stream",
     "text": [
      "10\n",
      "<class 'int'>\n"
     ]
    }
   ],
   "source": [
    "a=10\n",
    "print(a)\n",
    "print(type(a))"
   ]
  },
  {
   "cell_type": "code",
   "execution_count": 27,
   "id": "fea323cf-7a87-4f1d-879f-858b447f2af8",
   "metadata": {},
   "outputs": [
    {
     "name": "stdout",
     "output_type": "stream",
     "text": [
      "10.0\n",
      "<class 'float'>\n"
     ]
    }
   ],
   "source": [
    "b=float(a)\n",
    "print(b)\n",
    "print(type(b))"
   ]
  },
  {
   "cell_type": "code",
   "execution_count": 29,
   "id": "418f0bdb-9f9e-4824-ac56-779ec8d9aa84",
   "metadata": {},
   "outputs": [
    {
     "name": "stdout",
     "output_type": "stream",
     "text": [
      "34.4\n",
      "<class 'float'>\n",
      "34\n",
      "<class 'int'>\n"
     ]
    }
   ],
   "source": [
    "a=34.4\n",
    "print(a)\n",
    "print(type(a))\n",
    "\n",
    "b=int(a)\n",
    "print(b)\n",
    "print(type(b))"
   ]
  },
  {
   "cell_type": "code",
   "execution_count": 30,
   "id": "1c38bbae-ffc3-400b-ba84-8240b5011128",
   "metadata": {},
   "outputs": [
    {
     "name": "stdout",
     "output_type": "stream",
     "text": [
      "<class 'str'>\n",
      "10\n",
      "<class 'int'>\n"
     ]
    }
   ],
   "source": [
    "a=\"10\"\n",
    "print(type(a))\n",
    "\n",
    "b=int(a)\n",
    "print(b)\n",
    "print(type(b))"
   ]
  },
  {
   "cell_type": "code",
   "execution_count": 31,
   "id": "c346370b-a785-4c58-a7b8-968fee611497",
   "metadata": {},
   "outputs": [
    {
     "name": "stdout",
     "output_type": "stream",
     "text": [
      "<class 'str'>\n",
      "10.5\n",
      "<class 'float'>\n"
     ]
    }
   ],
   "source": [
    "a=\"10.5\"\n",
    "print(type(a))\n",
    "\n",
    "b=float(a)\n",
    "print(b)\n",
    "print(type(b))"
   ]
  },
  {
   "cell_type": "code",
   "execution_count": 34,
   "id": "944c8130-7129-454d-824c-dda66875e11d",
   "metadata": {},
   "outputs": [
    {
     "name": "stdout",
     "output_type": "stream",
     "text": [
      "<class 'str'>\n"
     ]
    },
    {
     "ename": "ValueError",
     "evalue": "could not convert string to float: 'hidfd4545'",
     "output_type": "error",
     "traceback": [
      "\u001b[1;31m--------------------------------------------------------------------------\u001b[0m",
      "\u001b[1;31mValueError\u001b[0m                               Traceback (most recent call last)",
      "Cell \u001b[1;32mIn[34], line 4\u001b[0m\n\u001b[0;32m      1\u001b[0m a\u001b[38;5;241m=\u001b[39m\u001b[38;5;124m\"\u001b[39m\u001b[38;5;124mhidfd4545\u001b[39m\u001b[38;5;124m\"\u001b[39m\n\u001b[0;32m      2\u001b[0m \u001b[38;5;28mprint\u001b[39m(\u001b[38;5;28mtype\u001b[39m(a))\n\u001b[1;32m----> 4\u001b[0m b\u001b[38;5;241m=\u001b[39m\u001b[38;5;28mfloat\u001b[39m(a)\n\u001b[0;32m      5\u001b[0m \u001b[38;5;28mprint\u001b[39m(b)\n\u001b[0;32m      6\u001b[0m \u001b[38;5;28mprint\u001b[39m(\u001b[38;5;28mtype\u001b[39m(b))\n",
      "\u001b[1;31mValueError\u001b[0m: could not convert string to float: 'hidfd4545'"
     ]
    }
   ],
   "source": [
    "a=\"hidfd4545\"\n",
    "print(type(a))\n",
    "\n",
    "b=float(a)\n",
    "print(b)\n",
    "print(type(b))"
   ]
  },
  {
   "cell_type": "code",
   "execution_count": 35,
   "id": "9b82a6f1-359d-4557-af9e-651c36d3b328",
   "metadata": {},
   "outputs": [
    {
     "data": {
      "text/plain": [
       "['__add__',\n",
       " '__class__',\n",
       " '__contains__',\n",
       " '__delattr__',\n",
       " '__dir__',\n",
       " '__doc__',\n",
       " '__eq__',\n",
       " '__format__',\n",
       " '__ge__',\n",
       " '__getattribute__',\n",
       " '__getitem__',\n",
       " '__getnewargs__',\n",
       " '__getstate__',\n",
       " '__gt__',\n",
       " '__hash__',\n",
       " '__init__',\n",
       " '__init_subclass__',\n",
       " '__iter__',\n",
       " '__le__',\n",
       " '__len__',\n",
       " '__lt__',\n",
       " '__mod__',\n",
       " '__mul__',\n",
       " '__ne__',\n",
       " '__new__',\n",
       " '__reduce__',\n",
       " '__reduce_ex__',\n",
       " '__repr__',\n",
       " '__rmod__',\n",
       " '__rmul__',\n",
       " '__setattr__',\n",
       " '__sizeof__',\n",
       " '__str__',\n",
       " '__subclasshook__',\n",
       " 'capitalize',\n",
       " 'casefold',\n",
       " 'center',\n",
       " 'count',\n",
       " 'encode',\n",
       " 'endswith',\n",
       " 'expandtabs',\n",
       " 'find',\n",
       " 'format',\n",
       " 'format_map',\n",
       " 'index',\n",
       " 'isalnum',\n",
       " 'isalpha',\n",
       " 'isascii',\n",
       " 'isdecimal',\n",
       " 'isdigit',\n",
       " 'isidentifier',\n",
       " 'islower',\n",
       " 'isnumeric',\n",
       " 'isprintable',\n",
       " 'isspace',\n",
       " 'istitle',\n",
       " 'isupper',\n",
       " 'join',\n",
       " 'ljust',\n",
       " 'lower',\n",
       " 'lstrip',\n",
       " 'maketrans',\n",
       " 'partition',\n",
       " 'removeprefix',\n",
       " 'removesuffix',\n",
       " 'replace',\n",
       " 'rfind',\n",
       " 'rindex',\n",
       " 'rjust',\n",
       " 'rpartition',\n",
       " 'rsplit',\n",
       " 'rstrip',\n",
       " 'split',\n",
       " 'splitlines',\n",
       " 'startswith',\n",
       " 'strip',\n",
       " 'swapcase',\n",
       " 'title',\n",
       " 'translate',\n",
       " 'upper',\n",
       " 'zfill']"
      ]
     },
     "execution_count": 35,
     "metadata": {},
     "output_type": "execute_result"
    }
   ],
   "source": [
    "dir(str)"
   ]
  },
  {
   "cell_type": "markdown",
   "id": "59434d31-ff7d-40cf-ab9c-33ba44af855d",
   "metadata": {},
   "source": [
    "format in python"
   ]
  },
  {
   "cell_type": "code",
   "execution_count": 36,
   "id": "a16f3a64-5557-415c-b99b-d5d2116424ad",
   "metadata": {},
   "outputs": [
    {
     "name": "stdout",
     "output_type": "stream",
     "text": [
      "hello, am 18 years old\n"
     ]
    }
   ],
   "source": [
    "print(\"hello, am {} years old\".format(18))"
   ]
  },
  {
   "cell_type": "code",
   "execution_count": 38,
   "id": "b941745d-934a-4eef-acc2-04c5bf8bc6a8",
   "metadata": {},
   "outputs": [
    {
     "name": "stdout",
     "output_type": "stream",
     "text": [
      "the article is about python\n"
     ]
    }
   ],
   "source": [
    "s=\"the article is about {}\"\n",
    "print(s.format(\"python\"))\n"
   ]
  },
  {
   "cell_type": "code",
   "execution_count": 39,
   "id": "80918c90-ffe3-4d1d-8a9e-f41eb24985c1",
   "metadata": {},
   "outputs": [
    {
     "data": {
      "text/plain": [
       "'2.88'"
      ]
     },
     "execution_count": 39,
     "metadata": {},
     "output_type": "execute_result"
    }
   ],
   "source": [
    "y=2.87878\n",
    "\"{:.2f}\".format(y)"
   ]
  },
  {
   "cell_type": "code",
   "execution_count": 40,
   "id": "0758d983-9daf-49be-a2a9-922ab90cef8f",
   "metadata": {},
   "outputs": [
    {
     "name": "stdout",
     "output_type": "stream",
     "text": [
      "2.88\n"
     ]
    }
   ],
   "source": [
    "a=2.878\n",
    "print(\"%.2f\"%a)"
   ]
  },
  {
   "cell_type": "code",
   "execution_count": 43,
   "id": "89f65eef-2200-4e39-91c8-68b31c39d9bc",
   "metadata": {},
   "outputs": [
    {
     "name": "stdout",
     "output_type": "stream",
     "text": [
      "hello- world!"
     ]
    }
   ],
   "source": [
    "print(\"hello\",\" world\",sep=\"-\",end=\"!\")"
   ]
  },
  {
   "cell_type": "markdown",
   "id": "26a5998c-9905-48b6-9c13-cc92fa500a27",
   "metadata": {},
   "source": [
    "input reading"
   ]
  },
  {
   "cell_type": "code",
   "execution_count": 44,
   "id": "7da221f6-9635-469a-862c-7328c2325c19",
   "metadata": {},
   "outputs": [
    {
     "name": "stdout",
     "output_type": "stream",
     "text": [
      "15\n"
     ]
    }
   ],
   "source": [
    "a=10\n",
    "b=5\n",
    "c=a+b\n",
    "print(c)\n"
   ]
  },
  {
   "cell_type": "code",
   "execution_count": 46,
   "id": "b919c6fc-a2e6-435b-9abc-930cd0aa4e4e",
   "metadata": {},
   "outputs": [
    {
     "name": "stdin",
     "output_type": "stream",
     "text": [
      " 6776\n"
     ]
    },
    {
     "name": "stdout",
     "output_type": "stream",
     "text": [
      "6776\n"
     ]
    }
   ],
   "source": [
    "a=input()\n",
    "print(a)"
   ]
  },
  {
   "cell_type": "code",
   "execution_count": 48,
   "id": "1f03dd4d-30c8-4b72-9214-b0151548b7b0",
   "metadata": {},
   "outputs": [
    {
     "name": "stdin",
     "output_type": "stream",
     "text": [
      " 56\n",
      " 56\n"
     ]
    },
    {
     "name": "stdout",
     "output_type": "stream",
     "text": [
      "5656\n",
      "<class 'str'>\n",
      "<class 'str'>\n"
     ]
    }
   ],
   "source": [
    "a=input()\n",
    "b=input()\n",
    "c=a+b\n",
    "print(c)\n",
    "\n",
    "print(type(a))\n",
    "print(type(b))"
   ]
  },
  {
   "cell_type": "code",
   "execution_count": 49,
   "id": "20abf338-3565-4cf7-89e0-16ec8e35a15f",
   "metadata": {},
   "outputs": [
    {
     "name": "stdin",
     "output_type": "stream",
     "text": [
      " 4\n",
      " 34\n"
     ]
    },
    {
     "name": "stdout",
     "output_type": "stream",
     "text": [
      "38\n",
      "<class 'int'>\n",
      "<class 'int'>\n"
     ]
    }
   ],
   "source": [
    "a=int(input())\n",
    "b=int(input())\n",
    "c=a+b\n",
    "print(c)\n",
    "\n",
    "print(type(a))\n",
    "print(type(b))"
   ]
  },
  {
   "cell_type": "code",
   "execution_count": 53,
   "id": "7fc06da0-50d9-4a6a-ad00-4bb5bd1d336b",
   "metadata": {},
   "outputs": [
    {
     "name": "stdin",
     "output_type": "stream",
     "text": [
      "enter a value: 45\n",
      "enter b value: 45\n"
     ]
    },
    {
     "name": "stdout",
     "output_type": "stream",
     "text": [
      "90\n",
      "<class 'int'>\n",
      "<class 'int'>\n"
     ]
    }
   ],
   "source": [
    "a=int(input('enter a value:'))\n",
    "b=int(input('enter b value:'))\n",
    "c=a+b\n",
    "print(c)\n",
    "\n",
    "print(type(a))\n",
    "print(type(b)) # accept only int"
   ]
  },
  {
   "cell_type": "code",
   "execution_count": 54,
   "id": "8c747a84-fb23-4350-abe5-83e837e15570",
   "metadata": {},
   "outputs": [
    {
     "name": "stdin",
     "output_type": "stream",
     "text": [
      "enter a value: 4\n",
      "enter b value: 4\n"
     ]
    },
    {
     "name": "stdout",
     "output_type": "stream",
     "text": [
      "8.0\n",
      "<class 'float'>\n",
      "<class 'float'>\n"
     ]
    }
   ],
   "source": [
    "a=float(input('enter a value:'))\n",
    "b=float(input('enter b value:'))\n",
    "c=a+b\n",
    "print(c)\n",
    "\n",
    "print(type(a))\n",
    "print(type(b)) # int and float value"
   ]
  },
  {
   "cell_type": "code",
   "execution_count": 55,
   "id": "49921df2-f4ae-4799-9a54-18d4d662c0c0",
   "metadata": {},
   "outputs": [
    {
     "name": "stdin",
     "output_type": "stream",
     "text": [
      "enter name python\n"
     ]
    },
    {
     "name": "stdout",
     "output_type": "stream",
     "text": [
      "python\n"
     ]
    }
   ],
   "source": [
    "a=str(input('enter name'))\n",
    "print(a)\n"
   ]
  },
  {
   "cell_type": "code",
   "execution_count": 56,
   "id": "120389f1-9d3a-49ef-86f1-a93d684dee56",
   "metadata": {},
   "outputs": [
    {
     "name": "stdin",
     "output_type": "stream",
     "text": [
      "enter name python\n"
     ]
    },
    {
     "name": "stdout",
     "output_type": "stream",
     "text": [
      "python\n"
     ]
    }
   ],
   "source": [
    "a=input('enter name')\n",
    "print(a)\n"
   ]
  },
  {
   "cell_type": "code",
   "execution_count": 57,
   "id": "91c68a0e-059b-4eba-9501-465f0c112972",
   "metadata": {},
   "outputs": [
    {
     "name": "stdout",
     "output_type": "stream",
     "text": [
      "5000.0\n"
     ]
    }
   ],
   "source": [
    "p=100000\n",
    "n=2\n",
    "r=2.5\n",
    "si=p*n*r/100\n",
    "print(si)"
   ]
  },
  {
   "cell_type": "code",
   "execution_count": 58,
   "id": "f9e80f2b-f1cb-4f96-a345-c3924c52ee4d",
   "metadata": {},
   "outputs": [
    {
     "name": "stdin",
     "output_type": "stream",
     "text": [
      "enter principal value: 10000\n",
      "no of years: 2\n",
      "enter the rate of interest: 2.5\n"
     ]
    },
    {
     "name": "stdout",
     "output_type": "stream",
     "text": [
      "500.0\n"
     ]
    }
   ],
   "source": [
    "p=int(input('enter principal value:'))\n",
    "n=int(input('no of years:'))\n",
    "r=float(input('enter the rate of interest:'))\n",
    "si=p*n*r/100\n",
    "print(si)"
   ]
  },
  {
   "cell_type": "markdown",
   "id": "27b372da-6d7b-4043-9c37-f40d3b2b8918",
   "metadata": {},
   "source": [
    "operators"
   ]
  },
  {
   "cell_type": "code",
   "execution_count": 61,
   "id": "acfba668-e4de-4d1b-947d-0deee60cc01e",
   "metadata": {},
   "outputs": [
    {
     "data": {
      "text/plain": [
       "2.5"
      ]
     },
     "execution_count": 61,
     "metadata": {},
     "output_type": "execute_result"
    }
   ],
   "source": [
    "a=10\n",
    "b=4\n",
    "c=a/b\n",
    "c # quotient"
   ]
  },
  {
   "cell_type": "code",
   "execution_count": 62,
   "id": "3012132e-b2b2-47e6-8655-87cfe372d4c9",
   "metadata": {},
   "outputs": [
    {
     "name": "stdout",
     "output_type": "stream",
     "text": [
      "3\n"
     ]
    }
   ],
   "source": [
    "a=10\n",
    "b=3\n",
    "c=a//b\n",
    "print(c) # floor opertor - quotient - after decimal dont consider\n"
   ]
  },
  {
   "cell_type": "code",
   "execution_count": 63,
   "id": "0ec7920e-c921-42a8-9fe1-41ff4343ed1e",
   "metadata": {},
   "outputs": [
    {
     "name": "stdout",
     "output_type": "stream",
     "text": [
      "1\n"
     ]
    }
   ],
   "source": [
    "a=10\n",
    "b=3\n",
    "c=a%b\n",
    "print(c) # modulo operator - remainder"
   ]
  },
  {
   "cell_type": "code",
   "execution_count": 64,
   "id": "80751df3-d754-47d0-a50c-14f9fc295cd0",
   "metadata": {},
   "outputs": [
    {
     "name": "stdout",
     "output_type": "stream",
     "text": [
      "1000\n"
     ]
    }
   ],
   "source": [
    "a=10\n",
    "b=3\n",
    "c=a**b\n",
    "print(c) # exponenial"
   ]
  },
  {
   "cell_type": "code",
   "execution_count": 70,
   "id": "6289622c-b897-4374-9682-5632ecf3dda9",
   "metadata": {},
   "outputs": [
    {
     "name": "stdout",
     "output_type": "stream",
     "text": [
      "False\n",
      "True\n",
      "False\n"
     ]
    }
   ],
   "source": [
    "a=10\n",
    "b=34\n",
    "\n",
    "print(a==b)\n",
    "print(a!=b)\n",
    "print(a>=b)"
   ]
  },
  {
   "cell_type": "code",
   "execution_count": 71,
   "id": "6a6f2f44-dfc0-4851-bab3-507ee9fe2072",
   "metadata": {},
   "outputs": [
    {
     "name": "stdout",
     "output_type": "stream",
     "text": [
      "a is bigger\n"
     ]
    }
   ],
   "source": [
    "a=10\n",
    "b=3\n",
    "if a>b:\n",
    "    print('a is bigger')"
   ]
  },
  {
   "cell_type": "code",
   "execution_count": null,
   "id": "1c918c0a-6d89-4ccf-82dd-ff69ac850866",
   "metadata": {},
   "outputs": [],
   "source": []
  },
  {
   "cell_type": "code",
   "execution_count": null,
   "id": "1cc8d1a7-bb6c-4fd0-a75a-58411c274816",
   "metadata": {},
   "outputs": [],
   "source": []
  },
  {
   "cell_type": "code",
   "execution_count": null,
   "id": "baac1259-19f3-435b-96d3-1481bfeae4af",
   "metadata": {},
   "outputs": [],
   "source": []
  },
  {
   "cell_type": "code",
   "execution_count": null,
   "id": "ba8642ae-53e1-4865-92e0-029cd7eca950",
   "metadata": {},
   "outputs": [],
   "source": []
  }
 ],
 "metadata": {
  "kernelspec": {
   "display_name": "Python [conda env:base] *",
   "language": "python",
   "name": "conda-base-py"
  },
  "language_info": {
   "codemirror_mode": {
    "name": "ipython",
    "version": 3
   },
   "file_extension": ".py",
   "mimetype": "text/x-python",
   "name": "python",
   "nbconvert_exporter": "python",
   "pygments_lexer": "ipython3",
   "version": "3.12.4"
  }
 },
 "nbformat": 4,
 "nbformat_minor": 5
}
